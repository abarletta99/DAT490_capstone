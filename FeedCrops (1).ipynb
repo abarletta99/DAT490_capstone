{
 "cells": [
  {
   "cell_type": "code",
   "execution_count": 15,
   "id": "9265a998-9feb-4db1-9f6d-7708eb2166cb",
   "metadata": {},
   "outputs": [
    {
     "name": "stderr",
     "output_type": "stream",
     "text": [
      "C:\\Users\\AlexChacon\\AppData\\Local\\Temp\\ipykernel_44028\\2536820174.py:8: DtypeWarning: Columns (0,2,4,5,7,9,11,13,14,16,18) have mixed types. Specify dtype option on import or set low_memory=False.\n",
      "  feedgrains_df = pd.read_csv(r\"C:\\Users\\AlexChacon\\Downloads\\FeedGrains\\FeedGrains.csv\", header=None)\n"
     ]
    },
    {
     "name": "stdout",
     "output_type": "stream",
     "text": [
      "Number of entries in MPD (base dataset): 21682\n",
      "Number of entries in final combined dataset: 524369\n",
      "          col1        category               col3            commodity  \\\n",
      "0  SC_Group_ID   SC_Group_Desc  SC_GroupCommod_ID  SC_GroupCommod_Desc   \n",
      "1            2  Supply and use                  9               Barley   \n",
      "2            2  Supply and use                  9               Barley   \n",
      "3            2  Supply and use                  9               Barley   \n",
      "4            2  Supply and use                  9               Barley   \n",
      "\n",
      "              col5       col6                    country             col8  \\\n",
      "0  SC_Geography_ID  SortOrder  SC_GeographyIndented_Desc  SC_Commodity_ID   \n",
      "1                1      0.800              United States                1   \n",
      "2                1      0.800              United States                1   \n",
      "3                1      0.800              United States                1   \n",
      "4                1      0.800              United States                1   \n",
      "\n",
      "                col9            col10  ...          col17  \\\n",
      "0  SC_Commodity_Desc  SC_Attribute_ID  ...  Timeperiod_ID   \n",
      "1             Barley                3  ...             69   \n",
      "2             Barley                3  ...             69   \n",
      "3             Barley                3  ...             69   \n",
      "4             Barley                3  ...             69   \n",
      "\n",
      "             market_type   yield countrycode gdppc pop co2 co2_per_capita  \\\n",
      "0        Timeperiod_Desc  Amount         NaN   NaN NaN NaN            NaN   \n",
      "1  Commodity Market Year    64.8         NaN   NaN NaN NaN            NaN   \n",
      "2  Commodity Market Year    61.1         NaN   NaN NaN NaN            NaN   \n",
      "3  Commodity Market Year      60         NaN   NaN NaN NaN            NaN   \n",
      "4  Commodity Market Year    63.3         NaN   NaN NaN NaN            NaN   \n",
      "\n",
      "  population gdp  \n",
      "0        NaN NaN  \n",
      "1        NaN NaN  \n",
      "2        NaN NaN  \n",
      "3        NaN NaN  \n",
      "4        NaN NaN  \n",
      "\n",
      "[5 rows x 26 columns]\n"
     ]
    }
   ],
   "source": [
    "import pandas as pd\n",
    "\n",
    "\n",
    "# Load \"mpd2020.xlsx\" (Historical GDP and Population Data)\n",
    "mpd_df = pd.read_excel(r\"C:\\Users\\AlexChacon\\Downloads\\mpd2020.xlsx\", sheet_name=\"Full data\")\n",
    "\n",
    "# Load \"FeedGrains.csv\" (Agricultural Data)\n",
    "feedgrains_df = pd.read_csv(r\"C:\\Users\\AlexChacon\\Downloads\\FeedGrains\\FeedGrains.csv\", header=None)\n",
    "\n",
    "# Load \"owid-co2-data.csv\" (CO₂ Data)\n",
    "co2_df = pd.read_csv(r\"C:\\Users\\AlexChacon\\Downloads\\owid-co2-data (1).csv\")\n",
    "\n",
    "# === Assign Column Names to FeedGrains Dataset ===\n",
    "feedgrains_df.columns = [\"col1\", \"category\", \"col3\", \"commodity\", \"col5\", \"col6\", \n",
    "                         \"country\", \"col8\", \"col9\", \"col10\", \"metric\", \"col12\", \n",
    "                         \"unit\", \"year\", \"col15\", \"period\", \"col17\", \"market_type\", \n",
    "                         \"yield\"]\n",
    "\n",
    "# === Filter Relevant Columns from CO2 Dataset ===\n",
    "co2_df_filtered = co2_df[[\"country\", \"year\", \"co2\", \"co2_per_capita\", \"population\", \"gdp\"]]\n",
    "\n",
    "# === Merge Datasets ===\n",
    "\n",
    "# Step 1: Merge MPD with FeedGrains using left join (keep all from MPD)\n",
    "combined_df = pd.merge(feedgrains_df, mpd_df, on=[\"country\", \"year\"], how=\"left\")\n",
    "\n",
    "# Step 2: Merge with CO2 data using left join (still preserving MPD as base)\n",
    "final_combined_df = pd.merge(combined_df, co2_df_filtered, on=[\"country\", \"year\"], how=\"left\")\n",
    "\n",
    "# === Save the Final Dataset (Without Dropping NaNs) ===\n",
    "final_combined_df.to_csv(r\"C:/Users/AlexChacon/Desktop/dat-490/Feedcrops/data.csv\", index=False)\n",
    "\n",
    "# === Display Some Info ===\n",
    "print(f\"Number of entries in MPD (base dataset): {len(mpd_df)}\")\n",
    "print(f\"Number of entries in final combined dataset: {len(final_combined_df)}\")\n",
    "print(final_combined_df.head())\n",
    "\n"
   ]
  },
  {
   "cell_type": "code",
   "execution_count": null,
   "id": "2a67faff-4580-4500-b395-6cd9c6799ea9",
   "metadata": {},
   "outputs": [],
   "source": []
  }
 ],
 "metadata": {
  "kernelspec": {
   "display_name": "Python [conda env:base] *",
   "language": "python",
   "name": "conda-base-py"
  },
  "language_info": {
   "codemirror_mode": {
    "name": "ipython",
    "version": 3
   },
   "file_extension": ".py",
   "mimetype": "text/x-python",
   "name": "python",
   "nbconvert_exporter": "python",
   "pygments_lexer": "ipython3",
   "version": "3.12.7"
  }
 },
 "nbformat": 4,
 "nbformat_minor": 5
}
