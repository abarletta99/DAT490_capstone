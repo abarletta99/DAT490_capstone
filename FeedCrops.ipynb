{
 "cells": [
  {
   "cell_type": "code",
   "execution_count": 9,
   "id": "9265a998-9feb-4db1-9f6d-7708eb2166cb",
   "metadata": {},
   "outputs": [
    {
     "name": "stderr",
     "output_type": "stream",
     "text": [
      "C:\\Users\\AlexChacon\\AppData\\Local\\Temp\\ipykernel_15256\\2297804581.py:7: DtypeWarning: Columns (0,2,4,5,7,9,11,13,14,16,18) have mixed types. Specify dtype option on import or set low_memory=False.\n",
      "  feedgrains_df = pd.read_csv(r\"C:\\Users\\AlexChacon\\Downloads\\FeedGrains\\FeedGrains.csv\", header=None)\n"
     ]
    },
    {
     "name": "stdout",
     "output_type": "stream",
     "text": [
      "       countrycode        country  year      gdppc      pop col1  \\\n",
      "480115         USA  United States  1866  4599.8768  36869.0    2   \n",
      "480116         USA  United States  1866  4599.8768  36869.0    1   \n",
      "480117         USA  United States  1866  4599.8768  36869.0    2   \n",
      "480118         USA  United States  1866  4599.8768  36869.0    1   \n",
      "480119         USA  United States  1866  4599.8768  36869.0    2   \n",
      "\n",
      "              category  col3 commodity col5  ...    col9 col10  \\\n",
      "480115  Supply and use  17.0      Oats    1  ...    Oats     2   \n",
      "480116          Prices   9.0    Barley    1  ...  Barley     5   \n",
      "480117  Supply and use  12.0      Corn    1  ...    Corn     4   \n",
      "480118          Prices  12.0      Corn    1  ...    Corn     5   \n",
      "480119  Supply and use  17.0      Oats    1  ...    Oats     3   \n",
      "\n",
      "                            metric col12                unit col15  period  \\\n",
      "480115           Harvested acreage     2       Million acres     3  Annual   \n",
      "480116  Prices received by farmers     4  Dollars per bushel     3  Annual   \n",
      "480117                  Production     1     Million bushels     3  Annual   \n",
      "480118  Prices received by farmers     4  Dollars per bushel     3  Annual   \n",
      "480119    Yield per harvested acre     6    Bushels per acre     3  Annual   \n",
      "\n",
      "       col17            market_type    yield  \n",
      "480115    69  Commodity Market Year    7.935  \n",
      "480116    69  Commodity Market Year    0.952  \n",
      "480117    69  Commodity Market Year  730.814  \n",
      "480118    69  Commodity Market Year    0.657  \n",
      "480119    69  Commodity Market Year     29.3  \n",
      "\n",
      "[5 rows x 22 columns]\n"
     ]
    }
   ],
   "source": [
    "import pandas as pd\n",
    "\n",
    "# Load \"mpd2020.xlsx\" (Historical GDP and Population Data)\n",
    "mpd_df = pd.read_excel(r\"C:\\Users\\AlexChacon\\Downloads\\mpd2020.xlsx\", sheet_name=\"Full data\")\n",
    "\n",
    "# Load \"FeedGrains.csv\" (Agricultural Data)\n",
    "feedgrains_df = pd.read_csv(r\"C:\\Users\\AlexChacon\\Downloads\\FeedGrains\\FeedGrains.csv\", header=None)\n",
    "\n",
    "# Assign column names to FeedGrains dataset (based on provided sample)\n",
    "feedgrains_df.columns = [\"col1\", \"category\", \"col3\", \"commodity\", \"col5\", \"col6\", \n",
    "                         \"country\", \"col8\", \"col9\", \"col10\", \"metric\", \"col12\", \n",
    "                         \"unit\", \"year\", \"col15\", \"period\", \"col17\", \"market_type\", \n",
    "                         \"yield\"]\n",
    "\n",
    "# Merge datasets with an outer join (preserves all columns)\n",
    "combined_df = pd.merge(mpd_df, feedgrains_df, on=[\"country\", \"year\"], how=\"outer\")\n",
    "\n",
    "# Drop rows with NaN values\n",
    "cleaned_df = combined_df.dropna()\n",
    "\n",
    "# Save the cleaned dataset\n",
    "cleaned_df.to_csv(r\"C:\\Users\\AlexChacon\\Downloads\\cleaned_combined_data.csv\", index=False)\n",
    "\n",
    "# Display first few rows\n",
    "print(cleaned_df.head())\n",
    "\n"
   ]
  },
  {
   "cell_type": "code",
   "execution_count": null,
   "id": "2a67faff-4580-4500-b395-6cd9c6799ea9",
   "metadata": {},
   "outputs": [],
   "source": []
  }
 ],
 "metadata": {
  "kernelspec": {
   "display_name": "Python [conda env:base] *",
   "language": "python",
   "name": "conda-base-py"
  },
  "language_info": {
   "codemirror_mode": {
    "name": "ipython",
    "version": 3
   },
   "file_extension": ".py",
   "mimetype": "text/x-python",
   "name": "python",
   "nbconvert_exporter": "python",
   "pygments_lexer": "ipython3",
   "version": "3.12.7"
  }
 },
 "nbformat": 4,
 "nbformat_minor": 5
}
